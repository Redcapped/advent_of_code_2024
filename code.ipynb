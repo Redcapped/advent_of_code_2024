{
 "cells": [
  {
   "cell_type": "markdown",
   "metadata": {},
   "source": [
    "## Advent of code 2024\n"
   ]
  },
  {
   "cell_type": "code",
   "execution_count": 6,
   "metadata": {},
   "outputs": [],
   "source": [
    "import numpy as np"
   ]
  },
  {
   "cell_type": "markdown",
   "metadata": {},
   "source": [
    "### dag 1"
   ]
  },
  {
   "cell_type": "markdown",
   "metadata": {},
   "source": [
    "deel 1"
   ]
  },
  {
   "cell_type": "code",
   "execution_count": null,
   "metadata": {},
   "outputs": [
    {
     "data": {
      "text/plain": [
       "1388114"
      ]
     },
     "execution_count": 12,
     "metadata": {},
     "output_type": "execute_result"
    }
   ],
   "source": [
    "f = open(\"dag_1.txt\")\n",
    "first_list = []\n",
    "second_list = []\n",
    "for element in f.read().split(\"\\n\"):\n",
    "    split_el = element.split()\n",
    "    first_list.append(split_el[0])\n",
    "    second_list.append(split_el[1])\n",
    "\n",
    "\n",
    "\n",
    "np.sum(np.abs(np.array([int(i)for i in sorted(first_list)])-np.array([int(i) for i in sorted(second_list)])))"
   ]
  },
  {
   "cell_type": "markdown",
   "metadata": {},
   "source": [
    "Deel 2\n"
   ]
  },
  {
   "cell_type": "code",
   "execution_count": 22,
   "metadata": {},
   "outputs": [
    {
     "data": {
      "text/plain": [
       "23529853"
      ]
     },
     "execution_count": 22,
     "metadata": {},
     "output_type": "execute_result"
    }
   ],
   "source": [
    "second_list = sorted(second_list)\n",
    "total_sum = 0\n",
    "for number in sorted(first_list):\n",
    "    try:\n",
    "        counter = 0\n",
    "        index = second_list.index(number)\n",
    "        while second_list[index] == number:\n",
    "            counter += 1\n",
    "            index+= 1\n",
    "        total_sum += counter*int(number)\n",
    "        \n",
    "    except ValueError:\n",
    "        pass\n",
    "total_sum"
   ]
  },
  {
   "cell_type": "markdown",
   "metadata": {},
   "source": [
    "### dag 2\n"
   ]
  },
  {
   "cell_type": "markdown",
   "metadata": {},
   "source": [
    "deel A\n"
   ]
  },
  {
   "cell_type": "code",
   "execution_count": 35,
   "metadata": {},
   "outputs": [
    {
     "data": {
      "text/plain": [
       "224"
      ]
     },
     "execution_count": 35,
     "metadata": {},
     "output_type": "execute_result"
    }
   ],
   "source": [
    "f = open(\"dag_2.txt\")\n",
    "counter = 0\n",
    "for line in f.readlines():\n",
    "    read_row = [int(i) for i in line.split()]\n",
    "    \n",
    "    if read_row[0] - read_row[-1] > 0:\n",
    "        read_row = read_row[::-1]\n",
    "    cur_el = read_row[0]\n",
    "    row_correct = 0\n",
    "    for element in read_row[1:]:\n",
    "        if cur_el >= element  or element > cur_el+3:\n",
    "            row_correct += 1\n",
    "            if row_correct > 1:\n",
    "                break\n",
    "        cur_el = element\n",
    "    if row_correct == 0:\n",
    "        counter += 1\n",
    "counter\n",
    "counter _2"
   ]
  },
  {
   "cell_type": "markdown",
   "metadata": {},
   "source": [
    "Deel 2"
   ]
  },
  {
   "cell_type": "code",
   "execution_count": 37,
   "metadata": {},
   "outputs": [
    {
     "data": {
      "text/plain": [
       "273"
      ]
     },
     "execution_count": 37,
     "metadata": {},
     "output_type": "execute_result"
    }
   ],
   "source": [
    "f = open(\"dag_2.txt\")\n",
    "counter = 0\n",
    "for line in f.readlines():\n",
    "    read_row = [int(i) for i in line.split()]\n",
    "    \n",
    "    if read_row[0] - read_row[-1] > 0:\n",
    "        read_row = read_row[::-1]\n",
    "    cur_el = read_row[0]\n",
    "    row_correct = 0\n",
    "    for element in read_row[1:]:\n",
    "        if cur_el >= element  or element > cur_el+3:\n",
    "            row_correct += 1\n",
    "            if row_correct > 1:\n",
    "                break\n",
    "            continue\n",
    "        cur_el = element\n",
    "    if row_correct <= 1:\n",
    "        counter += 1\n",
    "counter"
   ]
  },
  {
   "cell_type": "code",
   "execution_count": null,
   "metadata": {},
   "outputs": [],
   "source": []
  }
 ],
 "metadata": {
  "kernelspec": {
   "display_name": "Python 3",
   "language": "python",
   "name": "python3"
  },
  "language_info": {
   "codemirror_mode": {
    "name": "ipython",
    "version": 3
   },
   "file_extension": ".py",
   "mimetype": "text/x-python",
   "name": "python",
   "nbconvert_exporter": "python",
   "pygments_lexer": "ipython3",
   "version": "3.11.0"
  }
 },
 "nbformat": 4,
 "nbformat_minor": 2
}
